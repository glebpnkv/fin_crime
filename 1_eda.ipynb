{
 "cells": [
  {
   "cell_type": "markdown",
   "id": "a06c98b9-9a95-4acf-89e7-16da4823e8b8",
   "metadata": {},
   "source": [
    "# Analysis of Customer Transactions"
   ]
  },
  {
   "cell_type": "code",
   "execution_count": null,
   "id": "a3f9b514-94a0-4d3a-90b2-2f4ceb4e2bf7",
   "metadata": {},
   "outputs": [],
   "source": [
    "import io\n",
    "import os\n",
    "import requests\n",
    "import zipfile\n",
    "\n",
    "from pathlib import Path\n",
    "\n",
    "import geopandas as gpd\n",
    "import matplotlib.pyplot as plt\n",
    "import matplotlib.ticker as ticker\n",
    "import numpy as np\n",
    "import pandas as pd\n",
    "import seaborn as sns\n",
    "\n",
    "from fin_crime.data_processor import DataProcessor"
   ]
  },
  {
   "cell_type": "code",
   "execution_count": null,
   "id": "dc7dd9af-52f9-42cd-b9d8-e57d5df424d7",
   "metadata": {},
   "outputs": [],
   "source": [
    "idx = pd.IndexSlice\n",
    "\n",
    "pd.options.display.max_columns = 100\n",
    "pd.set_option('display.float_format', lambda x: '%.5f' % x)"
   ]
  },
  {
   "cell_type": "markdown",
   "id": "64e04bf4-1cdf-495a-b3e1-1b2e254cfdcf",
   "metadata": {},
   "source": [
    "# Defines"
   ]
  },
  {
   "cell_type": "code",
   "execution_count": null,
   "id": "f6ca9aa7-27a0-4fb8-b417-cc8256fb09f2",
   "metadata": {},
   "outputs": [],
   "source": [
    "input_data_dir = os.path.join(\"data\", \"processed\")\n",
    "cur_file_path = os.path.join(input_data_dir, \"tr_fincrime_train.parquet\")\n",
    "\n",
    "cache_dir = \"cache\"\n",
    "os.makedirs(cache_dir, exist_ok=True)"
   ]
  },
  {
   "cell_type": "code",
   "execution_count": null,
   "id": "7bb47e9c-d520-416b-ab88-ab1926795f65",
   "metadata": {},
   "outputs": [],
   "source": [
    "url = 'https://www2.census.gov/geo/tiger/GENZ2018/shp/cb_2018_us_state_500k.zip'\n",
    "response = requests.get(url)\n",
    "with zipfile.ZipFile(io.BytesIO(response.content)) as z:\n",
    "    z.extractall(os.path.join(cache_dir, 'states_shp'))"
   ]
  },
  {
   "cell_type": "markdown",
   "id": "90b8747d-40a9-43c0-bb88-75819ca69822",
   "metadata": {},
   "source": [
    "# Data"
   ]
  },
  {
   "cell_type": "code",
   "execution_count": null,
   "id": "8cb53de0-fa49-4766-b248-a00ab97a0107",
   "metadata": {},
   "outputs": [],
   "source": [
    "df = pd.read_parquet(cur_file_path)"
   ]
  },
  {
   "cell_type": "code",
   "execution_count": null,
   "id": "603b43e8-76d6-4665-a5b7-7ef6163860e1",
   "metadata": {},
   "outputs": [],
   "source": [
    "df[\"distance\"] = np.linalg.norm(\n",
    "    df[[\"lat\", \"long\"]].values - df[[\"merch_lat\", \"merch_long\"]].values,\n",
    "    ord=2,\n",
    "    axis=1\n",
    ")"
   ]
  },
  {
   "cell_type": "code",
   "execution_count": null,
   "id": "afa521b8-278d-4ef0-a753-b6d4c0d785db",
   "metadata": {},
   "outputs": [],
   "source": [
    "df[\"age_at_transaction\"] = (df[\"trans_date_trans_time\"] - df[\"dob\"]) / pd.Timedelta(\"365d\")"
   ]
  },
  {
   "cell_type": "code",
   "execution_count": null,
   "id": "1d3de620-5b1f-4fc8-a5d3-4d744c7653e7",
   "metadata": {},
   "outputs": [],
   "source": [
    "df[\"trans_hour\"] = df[\"trans_date_trans_time\"].dt.hour"
   ]
  },
  {
   "cell_type": "markdown",
   "id": "28303a49-e28e-4bdf-a41a-3ba526bfa234",
   "metadata": {
    "jp-MarkdownHeadingCollapsed": true
   },
   "source": [
    "# Data Familiarisation"
   ]
  },
  {
   "cell_type": "markdown",
   "id": "a44892a1-1840-4184-807e-632449a6d62b",
   "metadata": {},
   "source": [
    "## Raw Data\n",
    "\n",
    "- No missing values"
   ]
  },
  {
   "cell_type": "code",
   "execution_count": null,
   "id": "227211d2-01a1-4ed8-aa16-02f06e0d4bdd",
   "metadata": {},
   "outputs": [],
   "source": [
    "df.head()"
   ]
  },
  {
   "cell_type": "code",
   "execution_count": null,
   "id": "89551a9a-2d9d-4406-8a45-59aa5fc8d26b",
   "metadata": {},
   "outputs": [],
   "source": [
    "df.info()"
   ]
  },
  {
   "cell_type": "markdown",
   "id": "e7dc0903-5c35-475d-a46f-922f278e0933",
   "metadata": {},
   "source": [
    "## Date Ranges\n",
    "\n",
    "- Transactions include the onset of COVID pandemic\n",
    "- No obvious outliers in `dob` field"
   ]
  },
  {
   "cell_type": "code",
   "execution_count": null,
   "id": "45727d68-4bf5-4a59-8e3b-09094895f42a",
   "metadata": {},
   "outputs": [],
   "source": [
    "df[DataProcessor.date_cols].describe()"
   ]
  },
  {
   "cell_type": "markdown",
   "id": "b3bd1725-697f-426b-9ead-04b4299fe759",
   "metadata": {},
   "source": [
    "## Individuals"
   ]
  },
  {
   "cell_type": "markdown",
   "id": "6c80d7bf-4305-48f4-a3a3-45cf735522f6",
   "metadata": {},
   "source": [
    "983 cards and 693 merchants"
   ]
  },
  {
   "cell_type": "code",
   "execution_count": null,
   "id": "750e4f8f-81ab-4c8c-8004-4e70996854a0",
   "metadata": {},
   "outputs": [],
   "source": [
    "df[[\"cc_num\", \"merchant\"]].nunique()"
   ]
  },
  {
   "cell_type": "markdown",
   "id": "a182ff0b-237a-4b42-a1c8-26deccf15611",
   "metadata": {},
   "source": [
    "No individual has more than 1 credit card"
   ]
  },
  {
   "cell_type": "code",
   "execution_count": null,
   "id": "3554ce83-0378-40d7-9ea4-02b143ca2288",
   "metadata": {},
   "outputs": [],
   "source": [
    "df.groupby([\"first\", \"last\", \"gender\", \"street\", \"zip\"])[\"cc_num\"].nunique().max()"
   ]
  },
  {
   "cell_type": "markdown",
   "id": "418f953e-d691-45c2-aec8-63d06908d9bd",
   "metadata": {},
   "source": [
    "## Location\n",
    "\n",
    "- Card holders are based in the US\n",
    "- "
   ]
  },
  {
   "cell_type": "code",
   "execution_count": null,
   "id": "ef33d12d-3db2-40a1-ae8d-6b8d7c6639fc",
   "metadata": {},
   "outputs": [],
   "source": [
    "df_plot = df.groupby(\"state\").size().sort_values(ascending=False).to_frame(\"Count\")\n",
    "df_plot[\"Percentage\"] = df_plot[\"Count\"] / df_plot[\"Count\"].sum()\n",
    "df_plot.head(15)"
   ]
  },
  {
   "cell_type": "code",
   "execution_count": null,
   "id": "0972007b-3283-4d36-aae6-10d3b77afd49",
   "metadata": {},
   "outputs": [],
   "source": [
    "usa = gpd.read_file(os.path.join(cache_dir, 'states_shp/cb_2018_us_state_500k.shp'))\n",
    "merged = usa.merge(df_plot, left_on=\"STUSPS\", right_index=True)\n",
    "merged = merged.sort_values(by='Count', ascending=False)\n",
    "\n",
    "fig, ax = plt.subplots(1, 1, figsize=(10, 10))\n",
    "merged.plot(\n",
    "    column='Count',\n",
    "    cmap='OrRd',\n",
    "    linewidth=0.8,\n",
    "    ax=ax,\n",
    "    edgecolor='0.8',\n",
    "    legend=True\n",
    ")\n",
    "# Remove axis off\n",
    "ax.axis('off')\n",
    "ax.set_xlim([-130, -65])  \n",
    "ax.set_ylim([24, 50])\n",
    "\n",
    "# Add a title\n",
    "ax.set_title('Counts per State of Residence', fontdict={'fontsize': '15', 'fontweight' : '3'})\n",
    "\n",
    "merged['coords'] = merged['geometry'].apply(lambda x: x.representative_point().coords[:])\n",
    "merged['coords'] = [coords[0] for coords in merged['coords']]\n",
    "for idx, row in merged.head(10).iterrows():\n",
    "    plt.annotate(\n",
    "        text=f\"{row['STUSPS']}: {round(row['Count']/10_000, 2) }k\", \n",
    "        xy=row['coords'],\n",
    "        horizontalalignment='center', \n",
    "        fontsize=9\n",
    "    )\n",
    "\n",
    "for idx, row in merged.tail(10).iterrows():\n",
    "    plt.annotate(\n",
    "        text=f\"{row['STUSPS']}: {round(row['Count']/10_000, 2) }k\", \n",
    "        xy=row['coords'],\n",
    "        horizontalalignment='center', \n",
    "        fontsize=9\n",
    "    )\n",
    "\n",
    "plt.show()"
   ]
  },
  {
   "cell_type": "markdown",
   "id": "4e504025-1345-4c6a-8d50-ef5a23525052",
   "metadata": {},
   "source": [
    "# Fraud Stats"
   ]
  },
  {
   "cell_type": "markdown",
   "id": "0270af66-7faf-40c6-a0c8-a8eb531ba88a",
   "metadata": {},
   "source": [
    "## Fraud Counts\n",
    "- Highly imbalanced (0.5% - or 7506 out of 1296675 - are fraudulent)\n",
    "- Cases of fraud do not happen at a constant rate."
   ]
  },
  {
   "cell_type": "code",
   "execution_count": null,
   "id": "38258ae1-90fd-4909-a783-a5f065842915",
   "metadata": {},
   "outputs": [],
   "source": [
    "df[\"is_fraud\"].describe(), df[\"is_fraud\"].sum()"
   ]
  },
  {
   "cell_type": "code",
   "execution_count": null,
   "id": "1993c14a-6fc2-4970-a797-44b9fd7063fa",
   "metadata": {},
   "outputs": [],
   "source": [
    "df_plot = df.groupby('cc_num')['is_fraud'].agg(['count', 'sum'])\n",
    "\n",
    "df_plot = df_plot.rename(columns={\n",
    "    \"count\": \"Number of Transactions\", \n",
    "    \"sum\": \"Number of Fraudulent Transactions\"\n",
    "})\n",
    "\n",
    "sns.scatterplot(\n",
    "    df_plot,\n",
    "    x='Number of Transactions',\n",
    "    y='Number of Fraudulent Transactions'\n",
    ")"
   ]
  },
  {
   "cell_type": "markdown",
   "id": "68d3d2a9-45e9-42d7-a53a-e8dc9a08f7ee",
   "metadata": {},
   "source": [
    "## Transaction amounts\n",
    "- Fraudulent transactions tend to have higher transaction amounts on average, but they were not the largest outright\n",
    "- Half of all fraudulent transactions were $\\approx$$400 or above; most transactions at this level are normal though"
   ]
  },
  {
   "cell_type": "code",
   "execution_count": null,
   "id": "86fa38f5-a69a-4661-b04b-177b47f46652",
   "metadata": {},
   "outputs": [],
   "source": [
    "df.groupby(\"is_fraud\")[\"amt\"].describe()"
   ]
  },
  {
   "cell_type": "code",
   "execution_count": null,
   "id": "a105db76-9e91-46c4-bb62-30a79d341ed2",
   "metadata": {},
   "outputs": [],
   "source": [
    "sns.histplot(\n",
    "    data=df,\n",
    "    x=\"amt\",\n",
    "    hue=\"is_fraud\", \n",
    "    stat=\"percent\",\n",
    "    log_scale=(True, False),\n",
    "    common_norm=False,\n",
    "    fill=True,\n",
    "    bins=100\n",
    ")\n",
    "\n",
    "plt.gca().xaxis.set_major_formatter(ticker.ScalarFormatter())\n",
    "plt.gca().xaxis.set_major_locator(ticker.LogLocator(base=10.0))\n",
    "\n",
    "plt.title('Transaction Proportions by Amount: Fraud vs Non-Fraud \\n Percentages for Each Group')"
   ]
  },
  {
   "cell_type": "code",
   "execution_count": null,
   "id": "b0da6256-0e47-4a6a-bf58-9f7ae319027a",
   "metadata": {},
   "outputs": [],
   "source": [
    "sns.histplot(\n",
    "    data=df.loc[df[\"amt\"] > 400],\n",
    "    x=\"amt\",\n",
    "    hue=\"is_fraud\", \n",
    "    stat=\"percent\",\n",
    "    log_scale=(True, False),\n",
    "    common_norm=True,\n",
    "    fill=True,\n",
    "    bins=200\n",
    ")\n",
    "\n",
    "plt.gca().xaxis.set_major_formatter(ticker.ScalarFormatter())\n",
    "plt.gca().xaxis.set_major_locator(ticker.LogLocator(base=10.0))\n",
    "\n",
    "plt.title('Transactions over $400 by Amount: Fraud vs Non-Fraud \\n Percentages for All Data')"
   ]
  },
  {
   "cell_type": "markdown",
   "id": "c4bc869c-8851-42ee-986b-e5a4dc781e2a",
   "metadata": {},
   "source": [
    "## Time of Day\n",
    "\n",
    "- Fraudulent transactions are more prevalent during the late hours between 22:00 and 03:00."
   ]
  },
  {
   "cell_type": "code",
   "execution_count": null,
   "id": "54b7aa11-1fd8-479c-8f50-5bf6e32cb3e3",
   "metadata": {},
   "outputs": [],
   "source": [
    "np.array([70, 86]) * .82"
   ]
  },
  {
   "cell_type": "code",
   "execution_count": null,
   "id": "581f9503-dd05-4c34-8242-28b4587c9440",
   "metadata": {},
   "outputs": [],
   "source": [
    "# df_plot = df.groupby([\"trans_hour\", \"category\"])[\"is_fraud\"].mean().to_frame(\"prop\") / df[\"is_fraud\"].mean()\n",
    "df_plot = df.groupby([\"trans_hour\"])[\"is_fraud\"].mean().to_frame(\"odds\") / df[\"is_fraud\"].mean()\n",
    "df_plot = df_plot.reset_index()\n",
    "df_plot = df_plot.rename(columns={\n",
    "    \"trans_hour\": \"Hour\",\n",
    "    \"odds\": \"Relative Fraud Odds\"\n",
    "})\n",
    "\n",
    "sns.barplot(\n",
    "    data=df_plot,\n",
    "    x='Hour',\n",
    "    y='Relative Fraud Odds',\n",
    ")\n",
    "\n",
    "plt.a"
   ]
  },
  {
   "cell_type": "markdown",
   "id": "d9c8ec32-428d-4170-a070-8dbec6018646",
   "metadata": {},
   "source": [
    "## Merchant Category"
   ]
  },
  {
   "cell_type": "markdown",
   "id": "2cad62fe-8461-4b5a-9a11-228c1f1018b3",
   "metadata": {},
   "source": [
    "### Total Counts"
   ]
  },
  {
   "cell_type": "code",
   "execution_count": null,
   "id": "445fde3a-0734-49e5-ae22-d418a6438ad3",
   "metadata": {},
   "outputs": [],
   "source": [
    "df_plot = df[\"category\"].value_counts(dropna=False).to_frame(\"Counts\")\n",
    "df_plot = df_plot.reset_index()\n",
    "df_plot = df_plot.rename(columns={\"category\": \"Merchant Category\"})"
   ]
  },
  {
   "cell_type": "code",
   "execution_count": null,
   "id": "3dfd5418-21a3-4a48-bbd2-0ec107d50cc4",
   "metadata": {},
   "outputs": [],
   "source": [
    "plt.figure(figsize=(20, 6))\n",
    "\n",
    "sns.barplot(\n",
    "    data=df_plot.reset_index(),\n",
    "    x='Merchant Category',\n",
    "    y='Counts',\n",
    ")"
   ]
  },
  {
   "cell_type": "markdown",
   "id": "63e7ac08-4021-4342-97c1-c801687780a0",
   "metadata": {},
   "source": [
    "### Fraud Odds vs Population Baseline\n",
    "\n",
    "How much more likely is a transaction to be fraudulent vs the population baseline - i.e. ${\\displaystyle \\frac{P(\\text{fraud} | \\text{Merchant Category}=x )}{P(\\text{fraud} )}}$\n",
    "\n",
    "- Internet shopping and internet misc have the highest relative odds (at least 2.5 more likely)\n",
    "- PoS grocery also have higher odds"
   ]
  },
  {
   "cell_type": "code",
   "execution_count": null,
   "id": "5a890c03-7dbd-4e41-8951-32dfca866b78",
   "metadata": {},
   "outputs": [],
   "source": [
    "df_plot = df.groupby(\"category\")[\"is_fraud\"].mean().sort_values(ascending=False).to_frame(\"Fraud Odds\") / df[\"is_fraud\"].mean()\n",
    "df_plot = df_plot.reset_index()\n",
    "df_plot = df_plot.rename(columns={\"category\": \"Merchant Category\"})"
   ]
  },
  {
   "cell_type": "code",
   "execution_count": null,
   "id": "42811fbd-5632-4079-b11a-38032c58bb21",
   "metadata": {},
   "outputs": [],
   "source": [
    "df_plot"
   ]
  },
  {
   "cell_type": "code",
   "execution_count": null,
   "id": "a363aa82-7cad-48a4-be4d-71545cbaa6e0",
   "metadata": {},
   "outputs": [],
   "source": [
    "plt.figure(figsize=(20, 6))\n",
    "\n",
    "sns.barplot(\n",
    "    data=df_plot.reset_index(),\n",
    "    x='Merchant Category',\n",
    "    y='Fraud Odds',\n",
    ")"
   ]
  },
  {
   "cell_type": "markdown",
   "id": "ecb74836-de71-4f67-83b9-3d58cb661793",
   "metadata": {},
   "source": [
    "## Merchant\n",
    "\n",
    "- Almost every merchant in the dataset had at least 1 fraudulent transaction reported against them\n",
    "- There are some differences between the merchant GPS coordinates of fraudulent and non-fraudulent transactions\n",
    "- "
   ]
  },
  {
   "cell_type": "code",
   "execution_count": null,
   "id": "bf7197b8-5adf-45e8-ba12-01640dfdf731",
   "metadata": {},
   "outputs": [],
   "source": [
    "df_loc = df.groupby(['merchant', \"is_fraud\"])[['merch_lat', 'merch_long']].agg([\"count\", \"mean\", \"std\"])\n",
    "df_loc = df_loc.fillna(0)\n",
    "# df_log = df_loc.join(\n",
    "#     df.groupby(['merchant', \"is_fraud\"]).size().to_frame(\"count\")\n",
    "# )\n",
    "\n",
    "# df_loc_mean = df.groupby(['merchant', \"is_fraud\"])[['merch_lat', 'merch_long']].mean()\n",
    "# df_loc_std = df.groupby(['merchant', \"is_fraud\"])[['merch_lat', 'merch_long']].std().fillna(0)\n",
    "# df_loc_std = df_loc_std.join(\n",
    "#     df.groupby(['merchant', \"is_fraud\"]).size().to_frame(\"count\")\n",
    "# )"
   ]
  },
  {
   "cell_type": "code",
   "execution_count": null,
   "id": "0e241ec3-fb83-40c3-9909-56c3e8eda7e1",
   "metadata": {},
   "outputs": [],
   "source": [
    "df.groupby([\"merchant\", \"merch_lat\", \"merch_long\"])[\"is_fraud\"].mean()"
   ]
  },
  {
   "cell_type": "code",
   "execution_count": null,
   "id": "2f137b54-b798-4590-8e0b-7a861e0f778f",
   "metadata": {},
   "outputs": [],
   "source": [
    "merch_selection = df_loc[\n",
    "    df_loc[(\"merch_lat\", \"std\")] == 0\n",
    "].index.unique(\"merchant\")"
   ]
  },
  {
   "cell_type": "code",
   "execution_count": null,
   "id": "c0607732-d05d-4565-8d9d-519515517761",
   "metadata": {},
   "outputs": [],
   "source": [
    "df_loc.loc[\n",
    "    idx[merch_selection, :]\n",
    "].head(20)"
   ]
  },
  {
   "cell_type": "code",
   "execution_count": null,
   "id": "adc7faf3-876a-4f89-935a-82c5974a4620",
   "metadata": {},
   "outputs": [],
   "source": [
    "df_loc_std[(df_loc_std==0).any(axis=1)]"
   ]
  },
  {
   "cell_type": "code",
   "execution_count": null,
   "id": "c48070e7-2ece-47f0-9ef5-2f4672788ebc",
   "metadata": {},
   "outputs": [],
   "source": [
    "df_loc.loc[:, idx[:, \"std\"]].sort_values(by=[(\"merch_lat\", \"std\")])"
   ]
  },
  {
   "cell_type": "code",
   "execution_count": null,
   "id": "eb6a19f1-8b28-42bb-a99d-bce7cdc96e52",
   "metadata": {},
   "outputs": [],
   "source": [
    "df.groupby('merchant')[['merch_lat', 'merch_long']].std()"
   ]
  },
  {
   "cell_type": "code",
   "execution_count": null,
   "id": "35364e42-974a-4341-b1eb-1c9d0b8de8cb",
   "metadata": {},
   "outputs": [],
   "source": [
    "df_count = df.groupby('merchant')['is_fraud'].mean()"
   ]
  },
  {
   "cell_type": "code",
   "execution_count": null,
   "id": "7bd43643-0d8b-434a-b90e-07db47fd7493",
   "metadata": {},
   "outputs": [],
   "source": [
    "sum(df_count != 0)"
   ]
  },
  {
   "cell_type": "code",
   "execution_count": null,
   "id": "122a03ae-157b-4c4d-b4a7-140daadb9c53",
   "metadata": {},
   "outputs": [],
   "source": [
    "df.groupby('merchant')['is_fraud'].mean().sort_values(ascending=False).head(200)"
   ]
  },
  {
   "cell_type": "code",
   "execution_count": null,
   "id": "73fe0bad-8dd8-481b-8596-44a03d4bb85b",
   "metadata": {},
   "outputs": [],
   "source": [
    "df.loc[\n",
    "    df['merchant'] == 'fraud_Kozey-Boehm'\n",
    "]"
   ]
  }
 ],
 "metadata": {
  "kernelspec": {
   "display_name": "Python 3 (ipykernel)",
   "language": "python",
   "name": "python3"
  },
  "language_info": {
   "codemirror_mode": {
    "name": "ipython",
    "version": 3
   },
   "file_extension": ".py",
   "mimetype": "text/x-python",
   "name": "python",
   "nbconvert_exporter": "python",
   "pygments_lexer": "ipython3",
   "version": "3.11.9"
  }
 },
 "nbformat": 4,
 "nbformat_minor": 5
}
