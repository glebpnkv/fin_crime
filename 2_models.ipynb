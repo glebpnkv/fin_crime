{
 "cells": [
  {
   "cell_type": "code",
   "execution_count": null,
   "id": "1019ec09-5351-4a02-a08d-c9854742c512",
   "metadata": {},
   "outputs": [],
   "source": [
    "%load_ext autoreload\n",
    "%autoreload 2"
   ]
  },
  {
   "cell_type": "markdown",
   "id": "eb2e7280-5fb3-4774-9277-86bd335300b9",
   "metadata": {},
   "source": [
    "# Fraud Detection Modelling\n",
    "\n",
    "Create a model that predicts whether a transaction is fraudulent or not."
   ]
  },
  {
   "cell_type": "code",
   "execution_count": null,
   "id": "e69843ef-4a4f-40c2-a289-1521a06ac77a",
   "metadata": {},
   "outputs": [],
   "source": [
    "from multiprocessing import Pool, TimeoutError\n",
    "import os\n",
    "import yaml\n",
    "\n",
    "from sklearn.metrics import precision_score, recall_score, f1_score\n",
    "from sklearn.model_selection import StratifiedKFold\n",
    "from tqdm import tqdm\n",
    "import matplotlib.pyplot as plt\n",
    "import pandas as pd\n",
    "import seaborn as sns\n",
    "import xgboost as xgb\n",
    "\n",
    "from fin_crime.data_processor import DataProcessor\n",
    "from fin_crime.model import fit_xgb_classifier"
   ]
  },
  {
   "cell_type": "code",
   "execution_count": null,
   "id": "054e4f5d-7725-4ec5-96c5-e164aa556b5e",
   "metadata": {},
   "outputs": [],
   "source": [
    "pd.options.display.max_columns = 100"
   ]
  },
  {
   "cell_type": "markdown",
   "id": "fd883d44-0110-4c6f-b487-1cb566b7984b",
   "metadata": {},
   "source": [
    "# Defines"
   ]
  },
  {
   "cell_type": "code",
   "execution_count": null,
   "id": "0c3506fc-4755-4bf8-a8ea-ae99fbec6288",
   "metadata": {},
   "outputs": [],
   "source": [
    "num_cores = os.cpu_count()\n",
    "input_data_dir = os.path.join(\"data\", \"processed\")"
   ]
  },
  {
   "cell_type": "code",
   "execution_count": null,
   "id": "9678c5d5-f3ba-460e-a4e2-bc5b76ef47d1",
   "metadata": {},
   "outputs": [],
   "source": [
    "dp = DataProcessor(\n",
    "    input_data_dir\n",
    ")"
   ]
  },
  {
   "cell_type": "code",
   "execution_count": null,
   "id": "bb7bc35d-b143-4afe-89d1-a8ec6babe9b6",
   "metadata": {},
   "outputs": [],
   "source": [
    "# features\n",
    "x_cols_categorical = [\n",
    "    \"category\",\n",
    "    \"gender\",\n",
    "    \"trans_hour\",\n",
    "    \"job_short\",\n",
    "    \"merchant\"\n",
    "]\n",
    "x_cols_cont = [\n",
    "    \"amt\",\n",
    "    \"age_at_transaction\",\n",
    "    \"city_pop\",\n",
    "    \n",
    "]\n",
    "x_cols = x_cols_categorical + x_cols_cont\n",
    "\n",
    "# target\n",
    "y_col = 'is_fraud'"
   ]
  },
  {
   "cell_type": "markdown",
   "id": "f0ea5e81-77ee-448e-bad9-5d9c9d19d3b7",
   "metadata": {},
   "source": [
    "# Data"
   ]
  },
  {
   "cell_type": "code",
   "execution_count": null,
   "id": "6bff5460-1c81-461e-a092-b079bffbf3f9",
   "metadata": {},
   "outputs": [],
   "source": [
    "with open(os.path.join(\"data\", \"compressed_job_titles.yml\")) as f:\n",
    "    job_map = yaml.load(f, Loader=yaml.FullLoader)['compressed_job_titles']"
   ]
  },
  {
   "cell_type": "code",
   "execution_count": null,
   "id": "0aeb8a3d-1dca-4a3d-a999-ab26712fdb7a",
   "metadata": {},
   "outputs": [],
   "source": [
    "df_train = pd.read_parquet(\n",
    "    os.path.join(input_data_dir, \"tr_fincrime_train.parquet\")\n",
    ")\n",
    "\n",
    "df_eval = pd.read_parquet(\n",
    "    os.path.join(input_data_dir, \"tr_fincrime_test.parquet\")\n",
    ")"
   ]
  },
  {
   "cell_type": "code",
   "execution_count": null,
   "id": "13871f0b-3c20-4088-9ce3-7a1b463e2054",
   "metadata": {},
   "outputs": [],
   "source": [
    "df_train = dp.process(df_train)\n",
    "df_eval = dp.process(df_eval)"
   ]
  },
  {
   "cell_type": "code",
   "execution_count": null,
   "id": "6f6d3e74-80ed-430b-9f3a-b3d56dd0af92",
   "metadata": {},
   "outputs": [],
   "source": [
    "df_train['job_short'] = df_train['job'].replace(job_map)\n",
    "df_eval['job_short'] = df_eval['job'].replace(job_map)"
   ]
  },
  {
   "cell_type": "code",
   "execution_count": null,
   "id": "58f48913-ead1-4b89-b7d8-87e60f50e123",
   "metadata": {},
   "outputs": [],
   "source": [
    "for cur_df in [df_train, df_eval]:\n",
    "    cur_df[x_cols_categorical] = cur_df[x_cols_categorical].astype(\"category\")"
   ]
  },
  {
   "cell_type": "markdown",
   "id": "63c7c677-7b71-4bb8-83b2-fff1c6a7c9f0",
   "metadata": {},
   "source": [
    "# Models\n",
    "\n",
    "Recall of fraudulent transactions is the key metric used to validate model performance:\n",
    "\n",
    "- Missing a fraudulent transaction is more expensive for the business than doing a check"
   ]
  },
  {
   "cell_type": "markdown",
   "id": "9a1534dc-d3b9-412a-84e5-259b1185e73a",
   "metadata": {},
   "source": [
    "## Baseline Model\n",
    "\n",
    "- XGBoost classifier with class-scaled loss\n",
    "- Stratified K-Fold with 5 folds and 3 sets of hyperparameters"
   ]
  },
  {
   "cell_type": "code",
   "execution_count": null,
   "id": "8b1f8c0e-c928-4bcc-89e3-c9bb097507ab",
   "metadata": {},
   "outputs": [],
   "source": [
    "n_folds = 5\n",
    "\n",
    "skf = StratifiedKFold(\n",
    "    n_splits=n_folds, \n",
    "    shuffle=True,\n",
    "    random_state=42\n",
    ")"
   ]
  },
  {
   "cell_type": "code",
   "execution_count": null,
   "id": "db7fa740-dee0-4c12-a444-be4bac10a717",
   "metadata": {},
   "outputs": [],
   "source": [
    "params_base = {\n",
    "    'objective': 'binary:logistic',\n",
    "    'scale_pos_weight': (df_train[y_col] == 0).sum() / (df_train[y_col] == 1).sum(),\n",
    "    \"learning_rate\": 0.01,\n",
    "}\n",
    "\n",
    "params_low_reg = params_base | {\n",
    "    \"min_child_weight\": 1,\n",
    "    \"gamma\": 0.01,\n",
    "    \"max_depth\": 15,\n",
    "    \"subsample\": 1,\n",
    "    \"reg_alpha\": 0.0,\n",
    "    \"reg_lambda\": 0.0\n",
    "}\n",
    "\n",
    "params_med_reg = params_base | {\n",
    "    \"min_child_weight\": 10,\n",
    "    \"gamma\": 0.1,\n",
    "    \"max_depth\": 10,\n",
    "    \"subsample\": 0.8,\n",
    "    \"reg_alpha\": 0.1,\n",
    "    \"reg_lambda\": 0.1\n",
    "}\n",
    "\n",
    "params_high_reg = params_base | {\n",
    "    \"min_child_weight\": 25,\n",
    "    \"gamma\": 0.5,\n",
    "    \"max_depth\": 8,\n",
    "    \"subsample\": 0.5,\n",
    "    \"reg_alpha\": 0.5,\n",
    "    \"reg_lambda\": 0.5\n",
    "}\n",
    "\n",
    "params = {\n",
    "    \"params_low_reg\": params_low_reg,\n",
    "    \"params_med_reg\": params_med_reg,\n",
    "    \"params_high_reg\": params_high_reg,\n",
    "}\n",
    "\n",
    "num_boost_round = 1000\n",
    "early_stopping_rounds = 50\n",
    "fit_timeout = 600"
   ]
  },
  {
   "cell_type": "code",
   "execution_count": null,
   "id": "9b60145f-f15b-43ba-ae96-6982b2defd21",
   "metadata": {},
   "outputs": [],
   "source": [
    "# Iterating over hyperparameters\n",
    "out_dict = {}\n",
    "\n",
    "for cur_name, cur_params in tqdm(params.items()):\n",
    "    skf_gen = skf.split(df_train[x_cols], df_train[y_col])\n",
    "\n",
    "    with Pool(processes=min(num_cores - 1, n_folds)) as pool:\n",
    "        out = pool.starmap_async(\n",
    "            fit_xgb_classifier, \n",
    "            [\n",
    "                (cur_params, df_train, x_cols, y_col, train_idx, test_idx, num_boost_round, early_stopping_rounds) \n",
    "                for _, (train_idx, test_idx) in enumerate(skf_gen)\n",
    "            ]\n",
    "        )\n",
    "    \n",
    "        try:\n",
    "            result = out.get(timeout=fit_timeout)\n",
    "        except TimeoutError:\n",
    "            print(\"Timeout\")\n",
    "            result = None\n",
    "\n",
    "    out_dict[cur_name] = result"
   ]
  },
  {
   "cell_type": "code",
   "execution_count": null,
   "id": "b180d6d0-5525-4daf-8b4b-0cc41dcb2483",
   "metadata": {},
   "outputs": [],
   "source": [
    "# Preparing Metrics\n",
    "\n",
    "metric_list = []\n",
    "\n",
    "for cur_name, cur_out in out_dict.items():\n",
    "    for cur_fold, _ in enumerate(cur_out):\n",
    "        \n",
    "        df_metrics_train = pd.DataFrame(\n",
    "            cur_out[cur_fold][0]['train']\n",
    "        )\n",
    "        \n",
    "        df_metrics_eval = pd.DataFrame(\n",
    "            cur_out[cur_fold][0]['eval']\n",
    "        )\n",
    "        \n",
    "        df_metrics_train['step'] = df_metrics_train.index.values\n",
    "        df_metrics_eval['step'] = df_metrics_eval.index.values\n",
    "        \n",
    "        df_metrics_train['type'] = 'train'\n",
    "        df_metrics_eval['type'] = 'eval'\n",
    "        \n",
    "        df_metrics = pd.concat([df_metrics_train, df_metrics_eval], ignore_index=True)\n",
    "        df_metrics['fold'] = cur_fold\n",
    "        df_metrics['param'] = cur_name\n",
    "\n",
    "        metric_list.append(df_metrics)"
   ]
  },
  {
   "cell_type": "code",
   "execution_count": null,
   "id": "5410ab81-2b24-4001-a091-d4d96baa0964",
   "metadata": {
    "scrolled": true
   },
   "outputs": [],
   "source": [
    "df_metrics_all = pd.concat(metric_list)\n",
    "\n",
    "df_metrics_agg = df_metrics_all.groupby(\n",
    "    ['param', 'type', 'step'],\n",
    ")[['f1', 'precision_class_1', 'recall_class_1']].mean()\n",
    "\n",
    "df_metrics_agg = df_metrics_agg.join(\n",
    "    df_metrics_all.groupby(\n",
    "        ['param', 'type', 'step'],\n",
    "    )['recall_class_1'].size().to_frame('count')\n",
    ")\n",
    "\n",
    "df_metrics_agg = df_metrics_agg.loc[\n",
    "    df_metrics_agg['count'] == n_folds\n",
    "]"
   ]
  },
  {
   "cell_type": "markdown",
   "id": "31f6f350-2d8e-4bd5-b653-8b38def8348b",
   "metadata": {},
   "source": [
    "Different levels of regularisation There is a trade-off between precision and recall which we have to make - `params_med_reg` set of hyperparameters (middle of the road amount of regularisation) could be "
   ]
  },
  {
   "cell_type": "code",
   "execution_count": null,
   "id": "506498f1-1d3b-4e3c-99f6-65f414c4b4d9",
   "metadata": {
    "jupyter": {
     "source_hidden": true
    }
   },
   "outputs": [],
   "source": [
    "df_plot = df_metrics_agg.reset_index().melt(\n",
    "    id_vars=['param', 'type', 'step'],\n",
    "    var_name='metric',\n",
    "    value_vars=['f1', 'precision_class_1', 'recall_class_1']\n",
    ")\n",
    "\n",
    "sns.relplot(\n",
    "    data=df_plot[df_plot['type'] != 'train'],\n",
    "    x='step',\n",
    "    y='value',\n",
    "    hue='param',\n",
    "    col='metric',\n",
    "    kind='line',\n",
    "    facet_kws={\"sharey\": False}\n",
    ")"
   ]
  },
  {
   "cell_type": "code",
   "execution_count": null,
   "id": "4a7ace04-f711-46c1-ab0b-e77c80181397",
   "metadata": {
    "jupyter": {
     "source_hidden": true
    }
   },
   "outputs": [],
   "source": [
    "df_plot = df_metrics_agg.reset_index().melt(\n",
    "    id_vars=['param', 'type', 'step'],\n",
    "    var_name='metric',\n",
    "    value_vars=['f1', 'precision_class_1', 'recall_class_1']\n",
    ")\n",
    "\n",
    "sns.relplot(\n",
    "    data=df_plot[df_plot['metric'] == 'recall_class_1'],\n",
    "    x='step',\n",
    "    y='value',\n",
    "    hue='type',\n",
    "    col='param',\n",
    "    kind='line',\n",
    "    facet_kws={\"sharey\": True}\n",
    ")\n",
    "\n",
    "plt.suptitle('Fraud Recall Bias', y=1.02)"
   ]
  }
 ],
 "metadata": {
  "kernelspec": {
   "display_name": "Python 3 (ipykernel)",
   "language": "python",
   "name": "python3"
  },
  "language_info": {
   "codemirror_mode": {
    "name": "ipython",
    "version": 3
   },
   "file_extension": ".py",
   "mimetype": "text/x-python",
   "name": "python",
   "nbconvert_exporter": "python",
   "pygments_lexer": "ipython3",
   "version": "3.11.9"
  }
 },
 "nbformat": 4,
 "nbformat_minor": 5
}
