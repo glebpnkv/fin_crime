{
 "cells": [
  {
   "cell_type": "code",
   "execution_count": null,
   "id": "30927d77-e09b-43ca-9e31-79e302ee68bd",
   "metadata": {},
   "outputs": [],
   "source": [
    "import os\n",
    "\n",
    "from fin_crime.data_processor import DataProcessor"
   ]
  },
  {
   "cell_type": "markdown",
   "id": "5872203f-aa03-402f-91b6-e6099053cdce",
   "metadata": {},
   "source": [
    "# Defines"
   ]
  },
  {
   "cell_type": "code",
   "execution_count": null,
   "id": "99af169f-7814-4d53-82a0-fd198027366e",
   "metadata": {},
   "outputs": [],
   "source": [
    "input_data_dir = os.path.join(\"data\", \"raw\")\n",
    "input_data_files = [\n",
    "    \"tr_fincrime_train.csv\",\n",
    "    \"tr_fincrime_test.csv\"\n",
    "]\n",
    "output_data_dir = os.path.join(\"data\", \"processed\")"
   ]
  },
  {
   "cell_type": "code",
   "execution_count": null,
   "id": "18368644-ce29-4421-86c2-1e234acd6a8b",
   "metadata": {},
   "outputs": [],
   "source": [
    "dp = DataProcessor(output_data_dir)"
   ]
  },
  {
   "cell_type": "markdown",
   "id": "cff7c595-3f5d-422a-a17a-ec592735f520",
   "metadata": {},
   "source": [
    "# Processing"
   ]
  },
  {
   "cell_type": "code",
   "execution_count": null,
   "id": "74223bac-c38a-4a3a-bb2e-bf72bc5b456a",
   "metadata": {},
   "outputs": [],
   "source": [
    "for cur_file in input_data_files:\n",
    "\n",
    "    dp.process(\n",
    "        os.path.join(input_data_dir, cur_file)\n",
    "    )"
   ]
  }
 ],
 "metadata": {
  "kernelspec": {
   "display_name": "Python 3 (ipykernel)",
   "language": "python",
   "name": "python3"
  },
  "language_info": {
   "codemirror_mode": {
    "name": "ipython",
    "version": 3
   },
   "file_extension": ".py",
   "mimetype": "text/x-python",
   "name": "python",
   "nbconvert_exporter": "python",
   "pygments_lexer": "ipython3",
   "version": "3.11.9"
  }
 },
 "nbformat": 4,
 "nbformat_minor": 5
}
