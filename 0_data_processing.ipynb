{
 "cells": [
  {
   "metadata": {},
   "cell_type": "code",
   "outputs": [],
   "execution_count": null,
   "source": [
    "import os\n",
    "\n",
    "from fin_crime.data_processor import DataProcessor"
   ],
   "id": "8759697c82b35ef0"
  },
  {
   "metadata": {},
   "cell_type": "markdown",
   "source": "# Defines",
   "id": "97460119f073fe1b"
  },
  {
   "metadata": {},
   "cell_type": "code",
   "outputs": [],
   "execution_count": null,
   "source": [
    "input_data_dir = os.path.join(\"data\", \"raw\")\n",
    "input_data_files = [\n",
    "    \"tr_fincrime_train.csv\",\n",
    "    \"tr_fincrime_test.csv\"\n",
    "]\n",
    "output_data_dir = os.path.join(\"data\", \"processed\")"
   ],
   "id": "d5b3d0e2d9651bec"
  },
  {
   "metadata": {},
   "cell_type": "code",
   "outputs": [],
   "execution_count": null,
   "source": "dp = DataProcessor(output_data_dir)",
   "id": "2b7e3a9820d5caf7"
  },
  {
   "metadata": {},
   "cell_type": "markdown",
   "source": "# Processing",
   "id": "572eb3615e89d8f6"
  },
  {
   "metadata": {},
   "cell_type": "code",
   "outputs": [],
   "execution_count": null,
   "source": [
    "for cur_file in input_data_files:\n",
    "\n",
    "    dp.process_raw(\n",
    "        os.path.join(input_data_dir, cur_file)\n",
    "    )"
   ],
   "id": "52e983218af3c93"
  }
 ],
 "metadata": {
  "kernelspec": {
   "display_name": "Python 3 (ipykernel)",
   "language": "python",
   "name": "python3"
  },
  "language_info": {
   "codemirror_mode": {
    "name": "ipython",
    "version": 3
   },
   "file_extension": ".py",
   "mimetype": "text/x-python",
   "name": "python",
   "nbconvert_exporter": "python",
   "pygments_lexer": "ipython3",
   "version": "3.11.10"
  }
 },
 "nbformat": 4,
 "nbformat_minor": 5
}
